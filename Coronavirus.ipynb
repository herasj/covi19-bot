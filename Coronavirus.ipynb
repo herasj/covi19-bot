{
  "nbformat": 4,
  "nbformat_minor": 0,
  "metadata": {
    "colab": {
      "name": "Coronavirus.ipynb",
      "provenance": [],
      "collapsed_sections": [],
      "authorship_tag": "ABX9TyO7bW59PiNyns6Z6KkpZNQM"
    },
    "kernelspec": {
      "name": "python3",
      "display_name": "Python 3"
    }
  },
  "cells": [
    {
      "cell_type": "code",
      "metadata": {
        "id": "c3iOFPKz-28q",
        "colab_type": "code",
        "outputId": "19d0b9f8-5b09-4a6b-d9e6-8256e2aa12af",
        "colab": {
          "base_uri": "https://localhost:8080/",
          "height": 208
        }
      },
      "source": [
        "# pip install requests\n",
        "# pip install tweepy\n",
        "import requests\n",
        "import tweepy\n",
        "from string import Template\n",
        "\n",
        "def getinfo():\n",
        "  response = requests.get('https://covid19.mathdro.id/api')\n",
        "  responseJson = response.json();\n",
        "  confirmed = responseJson['confirmed']['value']\n",
        "  recovered = responseJson['recovered']['value']\n",
        "  deaths = responseJson['deaths']['value']\n",
        "\n",
        "  #Read file\n",
        "  f = open(\"Spread.txt\", \"r\")\n",
        "  contents=''\n",
        "  if f.mode == 'r':\n",
        "    contents =f.read()\n",
        "  antes = contents.split(\"\\n\")\n",
        "\n",
        "\n",
        "  con_aum=str(confirmed-int(antes[0]))\n",
        "  rec_aum=str(recovered-int(antes[1]))\n",
        "  dea_aum=str(deaths-int(antes[2]))\n",
        "\n",
        "  s = Template('Coronavirus information 📢\\n⚠️Confirmed cases: $con\\n +$ca since last tweet\\n\\n🏥 Recovered: $reco\\n +$ra since last tweet\\n \\n💀 Deaths: $dea\\n +$da since last tweet\\n \\n#Coronavirus #Pandemic')\n",
        "  text = s.substitute(con=confirmed, reco=recovered,dea= deaths,ca=con_aum,ra=rec_aum,da=dea_aum)\n",
        "  print(text)\n",
        "\n",
        "  #Text to file\n",
        "  filetext= Template('$con \\n$rec\\n $dea')\n",
        "  filetext = filetext.substitute(con=confirmed, rec=recovered, dea=deaths)\n",
        "  #Save file\n",
        "  f = open(\"Spread.txt\", \"w\")\n",
        "  f.write(filetext)\n",
        "  f.close()\n",
        "  \n",
        "  return text\n",
        "\n",
        "def twitter(tweet):\n",
        "  # Authenticate to Twitter\n",
        "  ConsumerK= '8dwBJmyezKw3mymQ4tu5NfeOV'\n",
        "  ConsumerS='N64iSbRbpgjoo0Aq5ptAcmGJQWT9XmANYO25JJcYUERpHdBJxT'\n",
        "  AccessT='1236329065663078400-MKdmHcIqUA98nnEgaYCX3YKaxzzCB0'\n",
        "  AccessS='VjcTTQDUr3bNAsA7xfTGUWskJXGbovYyVcVY6zeXCNxIk'\n",
        "  auth = tweepy.OAuthHandler(ConsumerK, ConsumerS)\n",
        "  auth.set_access_token(AccessT, AccessS)\n",
        "\n",
        "  # Create API object\n",
        "  api = tweepy.API(auth)\n",
        "  # Create a tweet\n",
        "  api.update_status(tweet)\n",
        "\n",
        "def percent():\n",
        "  population = 7770206563\n",
        "  response = requests.get('https://covid19.mathdro.id/api')\n",
        "  responseJson = response.json();\n",
        "  confirmed = float(int(responseJson['confirmed']['value'])/population)\n",
        "  recovered = float(int(responseJson['recovered']['value'])/population)\n",
        "  deaths = float(int(responseJson['deaths']['value'])/population)\n",
        "  s = Template('Coronavirus Progress (% of world population) 📢\\n⚠️Confirmed cases : $con% \\n🏥 Recovered: $reco% \\n💀 Deaths: $dea% \\nApproximate values\\n#Coronavirus #Pandemic')\n",
        "  text = s.substitute(con=confirmed, reco=recovered,dea= deaths)\n",
        "  print(text)\n",
        "\n",
        "status = getinfo()\n",
        "twitter(status)"
      ],
      "execution_count": 0,
      "outputs": [
        {
          "output_type": "stream",
          "text": [
            "Coronavirus information 📢\n",
            "⚠️Confirmed cases: 124910\n",
            " +0 since last tweet\n",
            "\n",
            "🏥 Recovered: 66702\n",
            " +0 since last tweet\n",
            " \n",
            "💀 Deaths: 4589\n",
            " +0 since last tweet\n",
            " \n",
            "#Coronavirus #Pandemic\n"
          ],
          "name": "stdout"
        }
      ]
    }
  ]
}